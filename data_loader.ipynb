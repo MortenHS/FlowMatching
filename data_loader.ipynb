{
 "cells": [
  {
   "cell_type": "code",
   "execution_count": 113,
   "metadata": {},
   "outputs": [
    {
     "name": "stdout",
     "output_type": "stream",
     "text": [
      "Device: cuda\n"
     ]
    }
   ],
   "source": [
    "import minari\n",
    "import torch\n",
    "from torch.utils.data import DataLoader, Dataset\n",
    "from torch.nn.utils.rnn import pad_sequence\n",
    "from torch import nn, Tensor\n",
    "import torch.nn.functional as F\n",
    "import matplotlib.pyplot as plt\n",
    "\n",
    "device = torch.device('cuda' if torch.cuda.is_available() else 'cpu')\n",
    "print(f\"Device: {device}\")"
   ]
  },
  {
   "cell_type": "code",
   "execution_count": 114,
   "metadata": {},
   "outputs": [
    {
     "name": "stdout",
     "output_type": "stream",
     "text": [
      "(34, 4)\n",
      "(33, 2)\n",
      "(33,)\n"
     ]
    }
   ],
   "source": [
    "dataset = minari.load_dataset('D4RL/pointmaze/umaze-v2')\n",
    "\n",
    "for episode_data in dataset.iterate_episodes():\n",
    "    observations = episode_data.observations\n",
    "    actions = episode_data.actions\n",
    "    rewards = episode_data.rewards\n",
    "    terminations = episode_data.terminations\n",
    "    truncations = episode_data.truncations\n",
    "    infos = episode_data.infos\n",
    "obs_tensor = observations[\"observation\"]\n",
    "\n",
    "print(obs_tensor.shape)\n",
    "print(actions.shape)\n",
    "print(terminations.shape)"
   ]
  },
  {
   "cell_type": "code",
   "execution_count": 115,
   "metadata": {},
   "outputs": [
    {
     "name": "stdout",
     "output_type": "stream",
     "text": [
      "obs tensor shape: torch.Size([33, 4])\n",
      "action shape: (33, 2)\n",
      "terminations shape:(33,)\n"
     ]
    }
   ],
   "source": [
    "obs_tensor = torch.from_numpy(obs_tensor).to(device)\n",
    "# If used later in the code, might cause problems here with already being a tensor. Add IF statement if problem reoccurs.\n",
    "\n",
    "action_tensor = torch.from_numpy(actions).to(device)\n",
    "reward_tensor = torch.from_numpy(rewards).to(device)\n",
    "terminations_tensor = torch.from_numpy(terminations).to(device)\n",
    "truncations_tensor = torch.from_numpy(truncations).to(device)\n",
    "\n",
    "N_min = min(len(obs_tensor), len(action_tensor), len(reward_tensor), len(terminations_tensor), len(truncations_tensor))\n",
    "\n",
    "obs_tensor = obs_tensor[:N_min]  # Trim to 33\n",
    "action_tensor = action_tensor[:N_min]\n",
    "reward_tensor = reward_tensor[:N_min]\n",
    "terminations_tensor = terminations_tensor[:N_min]\n",
    "truncations_tensor = truncations_tensor[:N_min]\n",
    "\n",
    "print(f\"obs tensor shape: {obs_tensor.shape}\")\n",
    "print(f\"action shape: {actions.shape}\")\n",
    "print(f\"terminations shape:{terminations.shape}\")\n",
    "\n",
    "class TrajectoryDataset(Dataset):\n",
    "    def __init__(self, observations, actions, rewards, terminations, truncations):\n",
    "        self.observations = observations\n",
    "        self.actions = actions\n",
    "        self.rewards = rewards\n",
    "        self.terminations = terminations\n",
    "        self.truncations = truncations\n",
    "\n",
    "    def __len__(self):\n",
    "        return len(self.observations)\n",
    "\n",
    "    def __getitem__(self, idx):\n",
    "        return self.observations[idx], self.actions[idx], self.rewards[idx], self.terminations[idx], self.truncations[idx]\n",
    "\n",
    "dataset = TrajectoryDataset(obs_tensor, action_tensor, reward_tensor, terminations_tensor, truncations_tensor)\n"
   ]
  },
  {
   "cell_type": "code",
   "execution_count": 116,
   "metadata": {},
   "outputs": [
    {
     "name": "stdout",
     "output_type": "stream",
     "text": [
      "Observations shape: torch.Size([33, 4])\n",
      "Actions shape: torch.Size([33, 2])\n",
      "Rewards shape: torch.Size([33])\n",
      "Terminations shape: torch.Size([33])\n",
      "Truncations shape: torch.Size([33])\n",
      "Length of dataset:  33\n"
     ]
    }
   ],
   "source": [
    "print(f\"Observations shape: {obs_tensor.shape}\")\n",
    "print(f\"Actions shape: {action_tensor.shape}\")\n",
    "print(f\"Rewards shape: {reward_tensor.shape}\")\n",
    "print(f\"Terminations shape: {terminations_tensor.shape}\")\n",
    "print(f\"Truncations shape: {truncations_tensor.shape}\")\n",
    "\n",
    "dataset = TrajectoryDataset(obs_tensor, action_tensor, reward_tensor, terminations_tensor, truncations_tensor)\n",
    "print(\"Length of dataset: \", len(dataset))"
   ]
  },
  {
   "cell_type": "code",
   "execution_count": 117,
   "metadata": {},
   "outputs": [],
   "source": [
    "batch_size = 32\n",
    "train_loader = DataLoader(dataset, batch_size=batch_size, shuffle=True)"
   ]
  },
  {
   "cell_type": "code",
   "execution_count": 118,
   "metadata": {},
   "outputs": [],
   "source": [
    "def flow_matching_loss(model, x_start, x_end, timesteps):\n",
    "    \"\"\"\n",
    "    Computes the flow matching loss.\n",
    "\n",
    "    Args:\n",
    "        model (nn.Module): The trajectory flow model\n",
    "        x_start (Tensor): Initial observations (N, T, D_obs)\n",
    "        x_end (Tensor): Target observations (N, T, D_obs)\n",
    "        timesteps (Tensor): Random time values (N, T, 1)\n",
    "    \n",
    "    Returns:\n",
    "        Tensor: Scalar loss value\n",
    "    \"\"\"\n",
    "    # Generate noisy interpolation between start and end\n",
    "    alpha = timesteps  # Time-dependent interpolation coefficient\n",
    "    x_t = alpha * x_start + (1 - alpha) * x_end  # Interpolated trajectory\n",
    "    x_t = x_t.to(device, dtype=torch.float32)\n",
    "    \n",
    "    timesteps = timesteps.to(device)\n",
    "\n",
    "    velocity_pred = model(x_t, timesteps)\n",
    "    velocity_target = x_end - x_start\n",
    "    \n",
    "    loss = F.mse_loss(velocity_pred, velocity_target)\n",
    "    loss = loss.to(device, dtype=torch.float32)\n",
    "    \n",
    "    return loss"
   ]
  },
  {
   "cell_type": "code",
   "execution_count": 119,
   "metadata": {},
   "outputs": [],
   "source": [
    "class TrajectoryFlowModel(nn.Module):\n",
    "    def __init__(self, obs_dim, hidden_dim=128, num_layers=3):\n",
    "        \"\"\"\n",
    "        A neural network that estimates the velocity field for flow matching.\n",
    "        \n",
    "        Args:\n",
    "            obs_dim (int): Dimensionality of observations (D_obs)\n",
    "            hidden_dim (int): Number of hidden units in the MLP\n",
    "            num_layers (int): Number of layers in the MLP\n",
    "        \"\"\"\n",
    "        super().__init__()\n",
    "        \n",
    "        layers = []\n",
    "        input_dim = obs_dim + 1  # We include time `t` as an input\n",
    "        \n",
    "        for _ in range(num_layers - 1):\n",
    "            layers.append(nn.Linear(input_dim, hidden_dim))\n",
    "            layers.append(nn.ReLU())\n",
    "            input_dim = hidden_dim  # Keep hidden layer size consistent\n",
    "        \n",
    "        layers.append(nn.Linear(hidden_dim, obs_dim))  # Output has the same shape as observations\n",
    "        self.network = nn.Sequential(*layers)\n",
    "\n",
    "    def forward(self, x, t):\n",
    "        \"\"\"\n",
    "        Forward pass for the trajectory flow model.\n",
    "        \n",
    "        Args:\n",
    "            x (Tensor): Input observations of shape (N, T, D_obs)\n",
    "            t (Tensor): Time conditioning of shape (N, T, 1)\n",
    "        \n",
    "        Returns:\n",
    "            Tensor: Predicted velocity field of shape (N, T, D_obs)\n",
    "        \"\"\"\n",
    "        # Concatenate time `t` to observations\n",
    "        xt = torch.cat([x, t], dim=-1)\n",
    "        velocity = self.network(xt)  # Predict flow field\n",
    "        return velocity  # Shape: (N, T, D_obs)"
   ]
  },
  {
   "cell_type": "code",
   "execution_count": 120,
   "metadata": {},
   "outputs": [
    {
     "name": "stdout",
     "output_type": "stream",
     "text": [
      "Epoch 0, Loss: 5.052261829376221\n",
      "Epoch 100, Loss: 0.01075715757906437\n",
      "Epoch 200, Loss: 0.001386734889820218\n",
      "Epoch 300, Loss: 0.0010731377406045794\n",
      "Epoch 400, Loss: 0.00043650943553075194\n",
      "Epoch 500, Loss: 0.0003533216950017959\n",
      "Epoch 600, Loss: 0.0006650391733273864\n",
      "Epoch 700, Loss: 0.00016233287169598043\n",
      "Epoch 800, Loss: 0.00018928476492874324\n",
      "Epoch 900, Loss: 0.0005390607984736562\n"
     ]
    }
   ],
   "source": [
    "epochs = 1000\n",
    "lr = 1e-3\n",
    "T = 32\n",
    "D_Obs = 4 # Magic number here,equal to the batch_trajs.shape found in the for loop\n",
    "dt = 0.1 # Small timestep increment\n",
    "model = TrajectoryFlowModel(D_Obs).to(device)\n",
    "optimizer = torch.optim.Adam(model.parameters(), lr=lr)\n",
    "\n",
    "for epoch in range(epochs):\n",
    "    for batch in train_loader:\n",
    "        batch_trajs = batch[0]\n",
    "        \n",
    "        batch_size = batch_trajs.shape[0] # Should be 32 i.e. the batch_size defined earlier in the code.\n",
    "\n",
    "        # Takes all rows and first two/last two columns respectively, adds a dimension at index 1, and expands it to match the size of T (which pretty much is the batch_size)\n",
    "        positions = batch_trajs[:, :2].unsqueeze(1).expand(batch_size, T, 2)\n",
    "        velocities = batch_trajs[:, 2:].unsqueeze(1).expand(batch_size, T, 2) # [32, 32, 2]\n",
    "\n",
    "        # Creates a time grid with shape [32], adds a dimension at index 0, to later combine with the trajectories to create a time dimension\n",
    "        time_grid = torch.arange(T, dtype=torch.float32, device=device).unsqueeze(0).expand(batch_size, T) * dt # [32, 32, 1]\n",
    "\n",
    "        traj_positions = positions + velocities * time_grid.unsqueeze(-1) # Combines intial positions with the velocities\n",
    "\n",
    "        synth_trajs = torch.cat([traj_positions, velocities], dim=-1).to(device) # Concatenates along the last dimension\n",
    "        \n",
    "        N, T, D_Obs = synth_trajs.shape\n",
    "        \n",
    "        split_point = T // 2\n",
    "        x_start = synth_trajs[:, :split_point, :].to(device, dtype=torch.float32)  # [32, 16, 4]\n",
    "        x_end = synth_trajs[:, split_point:, :].to(device, dtype=torch.float32)  # [32, 16, 4]\n",
    "        \n",
    "        # Generate random timesteps for this batch\n",
    "        timesteps = torch.rand(batch_size, split_point, 1, dtype=torch.float32).to(device)\n",
    "\n",
    "        optimizer.zero_grad()\n",
    "        loss = flow_matching_loss(model, x_start, x_end, timesteps)\n",
    "        loss = loss.to(device, dtype=torch.float32)\n",
    "        loss.backward()\n",
    "        optimizer.step()\n",
    "        \n",
    "    if epoch % 100 == 0:\n",
    "        print(f\"Epoch {epoch}, Loss: {loss.item()}\")\n"
   ]
  },
  {
   "cell_type": "markdown",
   "metadata": {},
   "source": [
    "## Sampling\n",
    "\n",
    "* Implement ODE solver\n",
    "* Generate noisy trajectories\n",
    "* Display\n",
    "* Store"
   ]
  }
 ],
 "metadata": {
  "kernelspec": {
   "display_name": "Python 3",
   "language": "python",
   "name": "python3"
  },
  "language_info": {
   "codemirror_mode": {
    "name": "ipython",
    "version": 3
   },
   "file_extension": ".py",
   "mimetype": "text/x-python",
   "name": "python",
   "nbconvert_exporter": "python",
   "pygments_lexer": "ipython3",
   "version": "3.12.8"
  }
 },
 "nbformat": 4,
 "nbformat_minor": 2
}
