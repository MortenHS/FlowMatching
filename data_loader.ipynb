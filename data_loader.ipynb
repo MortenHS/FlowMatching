{
 "cells": [
  {
   "cell_type": "code",
   "execution_count": 12,
   "metadata": {},
   "outputs": [],
   "source": [
    "import minari\n",
    "import torch\n",
    "from torch.utils.data import DataLoader, Dataset\n",
    "from torch.nn.utils.rnn import pad_sequence\n",
    "from torch import nn, Tensor\n",
    "import torch.nn.functional as F"
   ]
  },
  {
   "cell_type": "code",
   "execution_count": 65,
   "metadata": {},
   "outputs": [
    {
     "name": "stdout",
     "output_type": "stream",
     "text": [
      "(34, 4)\n",
      "(33, 2)\n",
      "(33,)\n"
     ]
    }
   ],
   "source": [
    "dataset = minari.load_dataset('D4RL/pointmaze/umaze-v2')\n",
    "\n",
    "for episode_data in dataset.iterate_episodes():\n",
    "    observations = episode_data.observations\n",
    "    actions = episode_data.actions\n",
    "    rewards = episode_data.rewards\n",
    "    terminations = episode_data.terminations\n",
    "    truncations = episode_data.truncations\n",
    "    infos = episode_data.infos\n",
    "obs_tensor = observations[\"observation\"]\n",
    "print(obs_tensor.shape)\n",
    "print(actions.shape)\n",
    "print(terminations.shape)"
   ]
  },
  {
   "cell_type": "code",
   "execution_count": 67,
   "metadata": {},
   "outputs": [
    {
     "name": "stdout",
     "output_type": "stream",
     "text": [
      "obs tensor shape: torch.Size([33, 4])\n",
      "action shape: (33, 2)\n",
      "terminations shape:(33,)\n"
     ]
    },
    {
     "name": "stderr",
     "output_type": "stream",
     "text": [
      "/tmp/ipykernel_2159467/3086859250.py:6: UserWarning: To copy construct from a tensor, it is recommended to use sourceTensor.clone().detach() or sourceTensor.clone().detach().requires_grad_(True), rather than torch.tensor(sourceTensor).\n",
      "  obs_tensor = torch.tensor(obs_tensor, device=device)\n"
     ]
    }
   ],
   "source": [
    "device = torch.device('cuda' if torch.cuda.is_available() else 'cpu')\n",
    "\n",
    "# obs_tensor = {key: torch.tensor(value) for key, value in observations.items()} # Keys: [\"achieved goal\", \"desired_goal\", \"observation\"]\n",
    "# obs_tensor = {key: tensor.to(device) for key, tensor in obs_tensor.items()}\n",
    "\n",
    "obs_tensor = torch.tensor(obs_tensor, device=device)\n",
    "action_tensor = torch.tensor(actions, device=device)\n",
    "reward_tensor = torch.tensor(rewards, device=device)\n",
    "terminations_tensor = torch.tensor(terminations, device=device)\n",
    "truncations_tensor = torch.tensor(truncations, device=device)\n",
    "\n",
    "N_min = min(len(obs_tensor), len(action_tensor), len(reward_tensor), len(terminations_tensor), len(truncations_tensor))\n",
    "\n",
    "obs_tensor = obs_tensor[:N_min]  # Trim to 33\n",
    "action_tensor = action_tensor[:N_min]\n",
    "reward_tensor = reward_tensor[:N_min]\n",
    "terminations_tensor = terminations_tensor[:N_min]\n",
    "truncations_tensor = truncations_tensor[:N_min]\n",
    "\n",
    "print(f\"obs tensor shape: {obs_tensor.shape}\")\n",
    "print(f\"action shape: {actions.shape}\")\n",
    "print(f\"terminations shape:{terminations.shape}\")\n",
    "dataset = TrajectoryDataset(obs_tensor, action_tensor, reward_tensor, terminations_tensor, truncations_tensor)\n"
   ]
  },
  {
   "cell_type": "code",
   "execution_count": 69,
   "metadata": {},
   "outputs": [
    {
     "name": "stdout",
     "output_type": "stream",
     "text": [
      "Observations shape: torch.Size([33, 4])\n",
      "Actions shape: torch.Size([33, 2])\n",
      "Rewards shape: torch.Size([33])\n",
      "Terminations shape: torch.Size([33])\n",
      "Truncations shape: torch.Size([33])\n",
      "Length of dataset:  33\n"
     ]
    }
   ],
   "source": [
    "class TrajectoryDataset(Dataset):\n",
    "    def __init__(self, observations, actions, rewards, terminations, truncations):\n",
    "        self.observations = observations\n",
    "        self.actions = actions\n",
    "        self.rewards = rewards\n",
    "        self.terminations = terminations\n",
    "        self.truncations = truncations\n",
    "\n",
    "    def __len__(self):\n",
    "        return len(self.observations)\n",
    "\n",
    "    def __getitem__(self, idx):\n",
    "        return self.observations[idx], self.actions[idx], self.rewards[idx], self.terminations[idx], self.truncations[idx]\n",
    "\n",
    "print(f\"Observations shape: {obs_tensor.shape}\")\n",
    "print(f\"Actions shape: {action_tensor.shape}\")\n",
    "print(f\"Rewards shape: {reward_tensor.shape}\")\n",
    "print(f\"Terminations shape: {terminations_tensor.shape}\")\n",
    "print(f\"Truncations shape: {truncations_tensor.shape}\")\n",
    "\n",
    "dataset = TrajectoryDataset(obs_tensor, action_tensor, reward_tensor, terminations_tensor, truncations_tensor)\n",
    "print(\"Length of dataset: \", len(dataset))"
   ]
  },
  {
   "cell_type": "code",
   "execution_count": 74,
   "metadata": {},
   "outputs": [],
   "source": [
    "batch_size = 32\n",
    "train_loader = DataLoader(dataset, batch_size=batch_size, shuffle=True)"
   ]
  },
  {
   "cell_type": "code",
   "execution_count": 81,
   "metadata": {},
   "outputs": [],
   "source": [
    "def flow_matching_loss(model, x_start, x_end, timesteps):\n",
    "    \"\"\"\n",
    "    Computes the flow matching loss.\n",
    "\n",
    "    Args:\n",
    "        model (nn.Module): The trajectory flow model\n",
    "        x_start (Tensor): Initial observations (N, T, D_obs)\n",
    "        x_end (Tensor): Target observations (N, T, D_obs)\n",
    "        timesteps (Tensor): Random time values (N, T, 1)\n",
    "    \n",
    "    Returns:\n",
    "        Tensor: Scalar loss value\n",
    "    \"\"\"\n",
    "    # Generate noisy interpolation between start and end\n",
    "    alpha = timesteps  # Time-dependent interpolation coefficient\n",
    "    print(\"x start, x end, alpha shapes\")\n",
    "    print(x_start.shape, x_end.shape, alpha.shape) \n",
    "    # ----------------------------------------------------------------------------------------------------\n",
    "    # Problemet ligger i shapes til x_start, x_end og alpha, sjekk hvordan de defineres\n",
    "    # ----------------------------------------------------------------------------------------------------\n",
    "    x_t = alpha * x_start + (1 - alpha) * x_end  # Interpolated trajectory\n",
    "    print(f\"x_t shape: {x_t.shape}\")\n",
    "    print(f\"Timesteps shape: {timesteps.shape}\")\n",
    "    # Predict flow field\n",
    "    \n",
    "    velocity_pred = model(x_t, timesteps)\n",
    "    print(f\"Velopcity pred shape: {velocity_pred.shape}\")\n",
    "\n",
    "    # Compute target flow field\n",
    "    velocity_target = x_end - x_start  # Ideal velocity to reach x_end\n",
    "\n",
    "    # Compute loss (MSE)\n",
    "    loss = F.mse_loss(velocity_pred, velocity_target)\n",
    "    return loss\n"
   ]
  },
  {
   "cell_type": "code",
   "execution_count": 76,
   "metadata": {},
   "outputs": [],
   "source": [
    "class TrajectoryFlowModel(nn.Module):\n",
    "    def __init__(self, obs_dim, hidden_dim=128, num_layers=3):\n",
    "        \"\"\"\n",
    "        A neural network that estimates the velocity field for flow matching.\n",
    "        \n",
    "        Args:\n",
    "            obs_dim (int): Dimensionality of observations (D_obs)\n",
    "            hidden_dim (int): Number of hidden units in the MLP\n",
    "            num_layers (int): Number of layers in the MLP\n",
    "        \"\"\"\n",
    "        super().__init__()\n",
    "        \n",
    "        layers = []\n",
    "        input_dim = obs_dim + 1  # We include time `t` as an input\n",
    "        \n",
    "        for _ in range(num_layers - 1):\n",
    "            layers.append(nn.Linear(input_dim, hidden_dim))\n",
    "            layers.append(nn.ReLU())\n",
    "            input_dim = hidden_dim  # Keep hidden layer size consistent\n",
    "        \n",
    "        layers.append(nn.Linear(hidden_dim, obs_dim))  # Output has the same shape as observations\n",
    "        self.network = nn.Sequential(*layers)\n",
    "\n",
    "    def forward(self, x, t):\n",
    "        \"\"\"\n",
    "        Forward pass for the trajectory flow model.\n",
    "        \n",
    "        Args:\n",
    "            x (Tensor): Input observations of shape (N, T, D_obs)\n",
    "            t (Tensor): Time conditioning of shape (N, T, 1)\n",
    "        \n",
    "        Returns:\n",
    "            Tensor: Predicted velocity field of shape (N, T, D_obs)\n",
    "        \"\"\"\n",
    "        # Concatenate time `t` to observations\n",
    "        xt = torch.cat([x, t], dim=-1)  # Shape: (N, T, D_obs + 1)\n",
    "        velocity = self.network(xt)  # Predict flow field\n",
    "        return velocity  # Shape: (N, T, D_obs)\n"
   ]
  },
  {
   "cell_type": "code",
   "execution_count": 82,
   "metadata": {},
   "outputs": [
    {
     "name": "stdout",
     "output_type": "stream",
     "text": [
      "T: 32, D_obs: 4\n",
      "x start, x end, alpha shapes\n",
      "torch.Size([32, 4]) torch.Size([32, 0]) torch.Size([32, 16, 1])\n"
     ]
    },
    {
     "ename": "RuntimeError",
     "evalue": "The size of tensor a (16) must match the size of tensor b (32) at non-singleton dimension 1",
     "output_type": "error",
     "traceback": [
      "\u001b[0;31m---------------------------------------------------------------------------\u001b[0m",
      "\u001b[0;31mRuntimeError\u001b[0m                              Traceback (most recent call last)",
      "Cell \u001b[0;32mIn[82], line 23\u001b[0m\n\u001b[1;32m     19\u001b[0m timesteps \u001b[38;5;241m=\u001b[39m torch\u001b[38;5;241m.\u001b[39mrand(batch_size, split_point, \u001b[38;5;241m1\u001b[39m)\u001b[38;5;241m.\u001b[39mto(device)\n\u001b[1;32m     21\u001b[0m optimizer\u001b[38;5;241m.\u001b[39mzero_grad()\n\u001b[0;32m---> 23\u001b[0m loss \u001b[38;5;241m=\u001b[39m flow_matching_loss(model, x_start, x_end, timesteps)\n\u001b[1;32m     25\u001b[0m loss\u001b[38;5;241m.\u001b[39mbackward()\n\u001b[1;32m     26\u001b[0m optimizer\u001b[38;5;241m.\u001b[39mstep()\n",
      "Cell \u001b[0;32mIn[81], line 18\u001b[0m, in \u001b[0;36mflow_matching_loss\u001b[0;34m(model, x_start, x_end, timesteps)\u001b[0m\n\u001b[1;32m     16\u001b[0m \u001b[38;5;28mprint\u001b[39m(\u001b[38;5;124m\"\u001b[39m\u001b[38;5;124mx start, x end, alpha shapes\u001b[39m\u001b[38;5;124m\"\u001b[39m)\n\u001b[1;32m     17\u001b[0m \u001b[38;5;28mprint\u001b[39m(x_start\u001b[38;5;241m.\u001b[39mshape, x_end\u001b[38;5;241m.\u001b[39mshape, alpha\u001b[38;5;241m.\u001b[39mshape)\n\u001b[0;32m---> 18\u001b[0m x_t \u001b[38;5;241m=\u001b[39m alpha \u001b[38;5;241m*\u001b[39m x_start \u001b[38;5;241m+\u001b[39m (\u001b[38;5;241m1\u001b[39m \u001b[38;5;241m-\u001b[39m alpha) \u001b[38;5;241m*\u001b[39m x_end  \u001b[38;5;66;03m# Interpolated trajectory\u001b[39;00m\n\u001b[1;32m     19\u001b[0m \u001b[38;5;28mprint\u001b[39m(\u001b[38;5;124mf\u001b[39m\u001b[38;5;124m\"\u001b[39m\u001b[38;5;124mx_t shape: \u001b[39m\u001b[38;5;132;01m{\u001b[39;00mx_t\u001b[38;5;241m.\u001b[39mshape\u001b[38;5;132;01m}\u001b[39;00m\u001b[38;5;124m\"\u001b[39m)\n\u001b[1;32m     20\u001b[0m \u001b[38;5;28mprint\u001b[39m(\u001b[38;5;124mf\u001b[39m\u001b[38;5;124m\"\u001b[39m\u001b[38;5;124mTimesteps shape: \u001b[39m\u001b[38;5;132;01m{\u001b[39;00mtimesteps\u001b[38;5;241m.\u001b[39mshape\u001b[38;5;132;01m}\u001b[39;00m\u001b[38;5;124m\"\u001b[39m)\n",
      "\u001b[0;31mRuntimeError\u001b[0m: The size of tensor a (16) must match the size of tensor b (32) at non-singleton dimension 1"
     ]
    }
   ],
   "source": [
    "epochs = 1000\n",
    "lr = 1e-3\n",
    "D_Obs = 4 # Magic number here,equal to the batch_trajs.shape found in the for loop\n",
    "model = TrajectoryFlowModel(D_Obs)\n",
    "optimizer = torch.optim.Adam(model.parameters(), lr=lr)\n",
    "\n",
    "for epoch in range(epochs):\n",
    "    for batch in train_loader:\n",
    "        batch_trajs = batch[0]\n",
    "        # print(batch_trajs)\n",
    "        T, D_Obs = batch_trajs.shape\n",
    "        print(f\"T: {T}, D_obs: {D_Obs}\")\n",
    "\n",
    "        split_point = T // 2\n",
    "        x_start = batch_trajs[:, :split_point]\n",
    "        x_end = batch_trajs[:, split_point:]\n",
    "\n",
    "        # Generate random timesteps for this batch\n",
    "        timesteps = torch.rand(batch_size, split_point, 1).to(device)\n",
    "\n",
    "        optimizer.zero_grad()\n",
    "\n",
    "        loss = flow_matching_loss(model, x_start, x_end, timesteps)\n",
    "        \n",
    "        loss.backward()\n",
    "        optimizer.step()\n",
    "    if epoch % 100 == 0:\n",
    "        print(f\"Epoch {epoch}, Loss: {loss.item()}\")\n",
    "'''\n",
    "observations = observations.reshape(-1, D_obs)\n",
    "actions = actions.reshape(-1, D_action)\n",
    "\n",
    "Might have to pad if trajectories are different length\n",
    "\n",
    "Possible training loop example:\n",
    "for obs, act in zip(observations, actions):\n",
    "    action_pred = model(obs)\n",
    "    loss = loss_fn(action_pred, act)\n",
    "    loss.backward()\n",
    "'''"
   ]
  },
  {
   "cell_type": "code",
   "execution_count": null,
   "metadata": {},
   "outputs": [],
   "source": [
    "# class Flow(nn.Module):\n",
    "#     def __init__(self, dim: int = 2, h: int = 64):\n",
    "#         super().__init__()\n",
    "#         self.net = nn.Sequential(\n",
    "#             nn.Linear(dim + 1, h), nn.ELU(),\n",
    "#             nn.Linear(h, h), nn.ELU(),\n",
    "#             nn.Linear(h, h), nn.ELU(),\n",
    "#             nn.Linear(h, dim))\n",
    "\n",
    "#     def forward(self, t: Tensor, x_t: Tensor) -> Tensor:\n",
    "#         return self.net(torch.cat((t, x_t), -1))\n",
    "\n",
    "#     def step(self, x_t: Tensor, t_start: Tensor, t_end: Tensor) -> Tensor:\n",
    "#         t_start = t_start.view(1, 1).expand(x_t.shape[0], 1)\n",
    "#         return x_t + (t_end - t_start) * self(t=t_start + (t_end - t_start) / 2, x_t= x_t + self(x_t=x_t, t=t_start) * (t_end - t_start) / 2)"
   ]
  }
 ],
 "metadata": {
  "kernelspec": {
   "display_name": "Python 3",
   "language": "python",
   "name": "python3"
  },
  "language_info": {
   "codemirror_mode": {
    "name": "ipython",
    "version": 3
   },
   "file_extension": ".py",
   "mimetype": "text/x-python",
   "name": "python",
   "nbconvert_exporter": "python",
   "pygments_lexer": "ipython3",
   "version": "3.12.8"
  }
 },
 "nbformat": 4,
 "nbformat_minor": 2
}
