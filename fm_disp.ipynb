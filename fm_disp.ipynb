{
 "cells": [
  {
   "cell_type": "markdown",
   "metadata": {},
   "source": [
    "# Disposition FM model\n",
    "\n",
    "Import libraries and packages\n",
    "Define the NN-model\n",
    "\n",
    "Train said model:\n",
    "Optimizer, learning rate.\n",
    "Define loss function (MSE)\n",
    "\n",
    "Implement a for-loop that goes for the desired amount of training steps\n",
    "For each iteration:\n",
    "Generate samples from a dataset (e.g. 256 trajectories from a 10 000 trajectory dataset)\n",
    "Convert into PyTorch tensor\n",
    "\n",
    "Generate intial state at random, make sure they have the same shape as the samples\n",
    "Sample random time steps, assign each trajectory with a time sampled from a uniform distribution [0,1]\n",
    "\n",
    "Interpolate between the dataset sample (x1) and the initial state (x0)\n",
    "The interpolated state (xt) is then sued to compute the target velocity field\n",
    "dxt = x1-x0\n",
    "dxt is the velocity field, defined as the difference between x1 and x0 (i.e. the direction for the trajectory to move)\n",
    "\n",
    "Optimize the flow model, measure the loss, store the loss\n",
    "Backpropagation, update parameters\n",
    "\n",
    "Sample from the trained model\n",
    "\n",
    "Plot progression\n",
    "Store plots\n",
    "\n",
    "# Trajectory considerations:\n",
    "For full trajectories instead of points, each trajectory should be stored as a sequence, where x_t represents the system's state at time t.\n",
    "Instead of sampling x1 and x0 randomly, I should instead sample a full trajectory, choose two time steps within the traj and interpolate between the x(t_0) and x(t_1) for those time steps.\n",
    "Interpolation: alpha=(t-t0)/(t1-t0)\n",
    "Loss function should minimize diff between learned vel: flow(xt,t)  and true vel: dxt"
   ]
  },
  {
   "cell_type": "code",
   "execution_count": null,
   "metadata": {},
   "outputs": [],
   "source": [
    "import torch\n",
    "from torch import nn, Tensor\n",
    "import matplotlib.pyplot as plt\n",
    "import numpy as np"
   ]
  },
  {
   "cell_type": "code",
   "execution_count": null,
   "metadata": {},
   "outputs": [],
   "source": [
    "class Flow(nn.Module):\n",
    "    def __init__(self, dim: int = 2, h: int = 64):\n",
    "        super().__init__()\n",
    "        self.net = nn.Sequential(\n",
    "            nn.Linear(dim + 1, h), nn.ELU(),\n",
    "            nn.Linear(h, h), nn.ELU(),\n",
    "            nn.Linear(h, h), nn.ELU(),\n",
    "            nn.Linear(h, dim))\n",
    "\n",
    "    def forward(self, t: Tensor, x_t: Tensor) -> Tensor:\n",
    "        return self.net(torch.cat((t, x_t), -1))\n",
    "\n",
    "    def step(self, x_t: Tensor, t_start: Tensor, t_end: Tensor) -> Tensor:\n",
    "        t_start = t_start.view(1, 1).expand(x_t.shape[0], 1)\n",
    "        return x_t + (t_end - t_start) * self(t=t_start + (t_end - t_start) / 2, x_t= x_t + self(x_t=x_t, t=t_start) * (t_end - t_start) / 2)"
   ]
  },
  {
   "cell_type": "code",
   "execution_count": null,
   "metadata": {},
   "outputs": [],
   "source": [
    "flow = Flow()\n",
    "optimizer = torch.optim.AdamW(flow.parameters(), 1e-3)\n",
    "loss_fn = nn.MSELoss()"
   ]
  },
  {
   "cell_type": "code",
   "execution_count": null,
   "metadata": {},
   "outputs": [],
   "source": [
    "# Training loop\n",
    "dataset = imported_dataset ## Fiks\n",
    "\n",
    "training_steps = 10000\n",
    "for _ in range(training_steps):\n",
    "    trajectory, times = dataset[random.randint(0, len(dataset)-1)]\n",
    "\n",
    "    t0_idx, t1_idx = torch.randint(0, len(times)-1 , (2,)) # Take two random samples from a trajectory\n",
    "    t0, t1 = times[t0_idx], times[t1_idx] # get the corresponding time to the two random samples\n",
    "    x_t0, x_t1 = trajectory[t0_idx], trajectory[t1_idx] # get the corresponding trajectory \"positions\"\n",
    "\n",
    "    alpha = torch.rand(1) # Interpolation factor\n",
    "    t = (1 - alpha) * t0 + alpha * t1_idx # Interpolate time \n",
    "    x_t = (1 - alpha) * x_t0 + alpha * x_t1 # Interpolate \"location\"\n",
    "    dx_t = (x_t1 - x_t0) / (t1 - t0) # Calculate velocity field\n",
    "\n",
    "    optimizer.zero_grad() # Optimize\n",
    "    loss_fn(flow(x_t, t), dx_t).backward() # Backpropagate\n",
    "    optimizer.step() # Next step\n"
   ]
  }
 ],
 "metadata": {
  "kernelspec": {
   "display_name": "Python 3",
   "language": "python",
   "name": "python3"
  },
  "language_info": {
   "codemirror_mode": {
    "name": "ipython",
    "version": 3
   },
   "file_extension": ".py",
   "mimetype": "text/x-python",
   "name": "python",
   "nbconvert_exporter": "python",
   "pygments_lexer": "ipython3",
   "version": "3.9.21"
  }
 },
 "nbformat": 4,
 "nbformat_minor": 2
}
