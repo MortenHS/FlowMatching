{
 "cells": [
  {
   "cell_type": "markdown",
   "metadata": {},
   "source": [
    "# Disposition FM model\n",
    "\n",
    "Import libraries and packages\n",
    "Define the NN-model\n",
    "\n",
    "Train said model:\n",
    "Optimizer, learning rate.\n",
    "Define loss function (MSE)\n",
    "\n",
    "Implement a for-loop that goes for the desired amount of training steps\n",
    "For each iteration:\n",
    "Generate samples from a dataset (e.g. 256 trajectories from a 10 000 trajectory dataset)\n",
    "Convert into PyTorch tensor\n",
    "\n",
    "Generate intial state at random, make sure they have the same shape as the samples\n",
    "Sample random time steps, assign each trajectory with a time sampled from a uniform distribution [0,1]\n",
    "\n",
    "Interpolate between the dataset sample (x1) and the initial state (x0)\n",
    "The interpolated state (xt) is then sued to compute the target velocity field\n",
    "dxt = x1-x0\n",
    "dxt is the velocity field, defined as the difference between x1 and x0 (i.e. the direction for the trajectory to move)\n",
    "\n",
    "Optimize the flow model, measure the loss, store the loss\n",
    "Backpropagation, update parameters\n",
    "\n",
    "Sample from the trained model\n",
    "\n",
    "Plot progression\n",
    "Store plots\n",
    "\n",
    "# Trajectory considerations:\n",
    "For full trajectories instead of points, each trajectory should be stored as a sequence, where x_t represents the system's state at time t.\n",
    "Instead of sampling x1 and x0 randomly, I should instead sample a full trajectory, choose two time steps within the traj and interpolate between the x(t_0) and x(t_1) for those time steps.\n",
    "Interpolation: alpha=(t-t0)/(t1-t0)\n",
    "Loss function should minimize diff between learned vel: flow(xt,t)  and true vel: dxt"
   ]
  },
  {
   "cell_type": "code",
   "execution_count": 2,
   "metadata": {},
   "outputs": [],
   "source": [
    "import torch\n",
    "from torch import nn, Tensor\n",
    "import matplotlib.pyplot as plt\n",
    "import numpy as np\n",
    "import tqdm as tqdm\n",
    "import random"
   ]
  },
  {
   "cell_type": "code",
   "execution_count": 3,
   "metadata": {},
   "outputs": [
    {
     "name": "stdout",
     "output_type": "stream",
     "text": [
      "Device: cuda:0\n",
      "CUDA version: 12.6\n"
     ]
    }
   ],
   "source": [
    "device = torch.device(\"cuda:0\" if torch.cuda.is_available() else \"cpu\")\n",
    "print(f\"Device: {device}\")\n",
    "print(f\"CUDA version: {torch.version.cuda}\")\n",
    "torch.cuda.set_device('cuda:0')"
   ]
  },
  {
   "cell_type": "code",
   "execution_count": 4,
   "metadata": {},
   "outputs": [],
   "source": [
    "class Flow(nn.Module):\n",
    "    def __init__(self, dim: int = 2, h: int = 64):\n",
    "        super().__init__()\n",
    "        self.net = nn.Sequential(\n",
    "            nn.Linear(dim + 1, h), nn.ELU(),\n",
    "            nn.Linear(h, h), nn.ELU(),\n",
    "            nn.Linear(h, h), nn.ELU(),\n",
    "            nn.Linear(h, dim))\n",
    "\n",
    "    def forward(self, t: Tensor, x_t: Tensor) -> Tensor:\n",
    "        return self.net(torch.cat((t, x_t), -1))\n",
    "\n",
    "    def step(self, x_t: Tensor, t_start: Tensor, t_end: Tensor) -> Tensor:\n",
    "        t_start = t_start.view(1, 1).expand(x_t.shape[0], 1)\n",
    "        return x_t + (t_end - t_start) * self(t=t_start + (t_end - t_start) / 2, x_t= x_t + self(x_t=x_t, t=t_start) * (t_end - t_start) / 2)"
   ]
  },
  {
   "cell_type": "code",
   "execution_count": 5,
   "metadata": {},
   "outputs": [],
   "source": [
    "flow = Flow().to(device)\n",
    "optimizer = torch.optim.AdamW(flow.parameters(), 1e-3)\n",
    "loss_fn = nn.MSELoss()"
   ]
  },
  {
   "cell_type": "code",
   "execution_count": null,
   "metadata": {},
   "outputs": [],
   "source": [
    "loaded_trajectories = torch.load('trajectories.pth', weights_only=False)\n",
    "trajectories_tensor = [\n",
    "    (torch.tensor(traj, dtype=torch.float32, device=device), torch.tensor(times, dtype=torch.float32, device=device))\n",
    "    for traj, times in loaded_trajectories\n",
    "]\n",
    "\n",
    "print(f\"dataset: {trajectories_tensor}\")\n",
    "training_steps = 10000\n",
    "pbar = tqdm.tqdm(range(training_steps))\n",
    "\n",
    "for i in pbar:\n",
    "    trajectory, times = trajectories_tensor[random.randint(0, len(trajectories_tensor)-1)]\n",
    "\n",
    "    t0_idx, t1_idx = torch.randint(0, len(times)-1 , (2,), device=device) # Take two random samples from a trajectory\n",
    "    t0, t1 = times[t0_idx], times[t1_idx] # get the corresponding time to the two random samples\n",
    "    x_t0, x_t1 = trajectory[t0_idx], trajectory[t1_idx] # get the corresponding trajectory \"positions\"\n",
    "\n",
    "    alpha = torch.rand(1,device=device) # Interpolation factor\n",
    "    t = (1 - alpha) * t0 + alpha * t1_idx # Interpolate time \n",
    "    x_t = (1 - alpha) * x_t0 + alpha * x_t1 # Interpolate \"location\"\n",
    "    dx_t = (x_t1 - x_t0) / (t1 - t0) # Calculate velocity field\n",
    "\n",
    "    optimizer.zero_grad() # Optimize\n",
    "    loss_fn(flow(x_t, t), dx_t).backward() # Backpropagate\n",
    "    optimizer.step() # Next step\n"
   ]
  },
  {
   "cell_type": "markdown",
   "metadata": {},
   "source": [
    "## Sampling"
   ]
  },
  {
   "cell_type": "code",
   "execution_count": 6,
   "metadata": {},
   "outputs": [
    {
     "name": "stdout",
     "output_type": "stream",
     "text": [
      "Done sampling\n"
     ]
    },
    {
     "data": {
      "image/png": "[encoded data removed]",
      "text/plain": [
       "<Figure size 800x600 with 1 Axes>"
      ]
     },
     "metadata": {},
     "output_type": "display_data"
    }
   ],
   "source": [
    "# Sampling parameters\n",
    "batch_size = 64\n",
    "sampling_steps = 10000\n",
    "t_start = 0.0\n",
    "t_end = 1.0\n",
    "dt = (t_end - t_start) / sampling_steps\n",
    "state_dim = 2 # Traj points are 2D\n",
    "\n",
    "# Create noisy trajectories \n",
    "flow.eval()\n",
    "losses = []\n",
    "\n",
    "with torch.no_grad():\n",
    "    x = torch.randn(batch_size, state_dim, device=device)\n",
    "    trajectory_record = [x.unsqueeze(0)] # shape: (1, batch_size, state_dim)\n",
    "    \n",
    "    # Solve ODE with Euler or higher order solver (e.g RK, adaptive solvers)\n",
    "    for step in range(sampling_steps):\n",
    "        current_time = torch.tensor([t_start + step * dt], dtype=x.dtype, device=device).expand(batch_size, 1)\n",
    "        v = flow(current_time, x)\n",
    "        x = x + dt * v\n",
    "        \n",
    "        trajectory_record.append(x.unsqueeze(0))\n",
    "    samp_trajs = torch.cat(trajectory_record, dim=0)\n",
    "print(\"Done sampling\")\n",
    "\n",
    "points = samp_trajs[0, :].cpu().numpy()\n",
    "\n",
    "plt.figure(figsize=(8,6))\n",
    "plt.scatter(points[:, 0], points[:, 1], color=\"r\", label=\"Samp trajs\")\n",
    "plt.legend()\n",
    "plt.grid()\n",
    "plt.show()\n"
   ]
  }
 ],
 "metadata": {
  "kernelspec": {
   "display_name": "Python 3",
   "language": "python",
   "name": "python3"
  },
  "language_info": {
   "codemirror_mode": {
    "name": "ipython",
    "version": 3
   },
   "file_extension": ".py",
   "mimetype": "text/x-python",
   "name": "python",
   "nbconvert_exporter": "python",
   "pygments_lexer": "ipython3",
   "version": "3.12.8"
  }
 },
 "nbformat": 4,
 "nbformat_minor": 2
}
