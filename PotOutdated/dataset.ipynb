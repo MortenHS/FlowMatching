{
 "cells": [
  {
   "cell_type": "code",
   "execution_count": null,
   "metadata": {},
   "outputs": [],
   "source": [
    "# Test datasets\n",
    "import gymnasium as gym\n",
    "import gymnasium_robotics\n",
    "import matplotlib.pyplot as plt\n",
    "import numpy as np\n",
    "import torch"
   ]
  },
  {
   "cell_type": "code",
   "execution_count": null,
   "metadata": {},
   "outputs": [],
   "source": [
    "gym.register_envs(gymnasium_robotics)\n",
    "\n",
    "env = gym.make(\"PointMaze_UMaze-v3\") #, render_mode = \"human\", disable_env_checker=True\n",
    "observations = []\n",
    "trajectories = []\n",
    "max_trajs = 1000\n",
    "for _ in range(max_trajs):\n",
    "    observations = []\n",
    "    observation, info = env.reset()\n",
    "    episode_over = False\n",
    "    while not episode_over:\n",
    "        action = env.action_space.sample()\n",
    "        observation, reward, terminated, truncated, info = env.step(action)\n",
    "        observations.append(observation['observation'][:2])\n",
    "        episode_over = terminated or truncated\n",
    "    trajectories.append(np.array(observations))\n",
    "\n",
    "# # Plot the points\n",
    "# for i, observations in enumerate(trajectories):\n",
    "#     plt.plot(observations[:, 0], observations[:, 1], marker='o', label=f\"Trajectory {i+1}\")\n",
    "#     plt.scatter(observations[0, 0], observations[0, 1], color='green', s=100, label='Start' if i == 0 else \"\")\n",
    "#     plt.scatter(observations[-1, 0], observations[-1, 1], color='red', s=100, label='End' if i == 0 else \"\")\n",
    "\n",
    "# plt.xlabel('X')\n",
    "# plt.ylabel('Y')\n",
    "# plt.title('Trajectories of the agent')\n",
    "# plt.legend()\n",
    "# plt.grid()\n",
    "# plt.show()\n",
    "\n",
    "# Save the trajectories to a .pth file\n",
    "torch.save(trajectories, 'trajectories.pth')"
   ]
  }
 ],
 "metadata": {
  "kernelspec": {
   "display_name": ".venv",
   "language": "python",
   "name": "python3"
  },
  "language_info": {
   "codemirror_mode": {
    "name": "ipython",
    "version": 3
   },
   "file_extension": ".py",
   "mimetype": "text/x-python",
   "name": "python",
   "nbconvert_exporter": "python",
   "pygments_lexer": "ipython3",
   "version": "3.12.8"
  }
 },
 "nbformat": 4,
 "nbformat_minor": 2
}
